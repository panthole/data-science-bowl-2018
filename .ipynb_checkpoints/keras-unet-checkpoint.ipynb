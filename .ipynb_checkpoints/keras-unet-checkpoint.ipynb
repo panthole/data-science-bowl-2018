{
 "cells": [
  {
   "cell_type": "code",
   "execution_count": 1,
   "metadata": {},
   "outputs": [
    {
     "name": "stderr",
     "output_type": "stream",
     "text": [
      "Using TensorFlow backend.\n",
      "/anaconda3/lib/python3.6/importlib/_bootstrap.py:219: RuntimeWarning: compiletime version 3.5 of module 'tensorflow.python.framework.fast_tensor_util' does not match runtime version 3.6\n",
      "  return f(*args, **kwds)\n"
     ]
    }
   ],
   "source": [
    "import os\n",
    "import sys\n",
    "import random\n",
    "import warnings\n",
    "\n",
    "import numpy as np\n",
    "import pandas as pd\n",
    "\n",
    "import matplotlib.pyplot as plt\n",
    "\n",
    "from tqdm import tqdm\n",
    "from itertools import chain\n",
    "from skimage.io import imread, imshow, imread_collection, concatenate_images\n",
    "from skimage.transform import resize\n",
    "from skimage.morphology import label\n",
    "\n",
    "from keras.models import Model, load_model\n",
    "from keras.layers import Input\n",
    "from keras.layers.core import Dropout, Lambda\n",
    "from keras.layers.convolutional import Conv2D, Conv2DTranspose\n",
    "from keras.layers.pooling import MaxPooling2D\n",
    "from keras.layers.merge import concatenate\n",
    "from keras.callbacks import EarlyStopping, ModelCheckpoint\n",
    "from keras import backend as K\n",
    "\n",
    "import tensorflow as tf\n",
    "\n",
    "# Set some parameters\n",
    "IMG_WIDTH = 128\n",
    "IMG_HEIGHT = 128\n",
    "IMG_CHANNELS = 3\n",
    "TRAIN_PATH = 'stage1_train/'\n",
    "TEST_PATH = 'stage1_test/'\n",
    "\n",
    "warnings.filterwarnings('ignore', category=UserWarning, module='skimage')\n",
    "seed = 42\n",
    "random.seed = seed\n",
    "np.random.seed = seed"
   ]
  },
  {
   "cell_type": "code",
   "execution_count": 2,
   "metadata": {},
   "outputs": [],
   "source": [
    "# Get train and test IDs\n",
    "train_ids = next(os.walk(TRAIN_PATH))[1]\n",
    "test_ids = next(os.walk(TEST_PATH))[1]"
   ]
  },
  {
   "cell_type": "code",
   "execution_count": 3,
   "metadata": {},
   "outputs": [
    {
     "name": "stdout",
     "output_type": "stream",
     "text": [
      "Getting and resizing train images and masks ... \n"
     ]
    },
    {
     "name": "stderr",
     "output_type": "stream",
     "text": [
      "100%|██████████| 670/670 [03:04<00:00,  3.62it/s]"
     ]
    },
    {
     "name": "stdout",
     "output_type": "stream",
     "text": [
      "Getting and resizing test images ... \n"
     ]
    },
    {
     "name": "stderr",
     "output_type": "stream",
     "text": [
      "\n",
      "100%|██████████| 65/65 [00:01<00:00, 48.55it/s]"
     ]
    },
    {
     "name": "stdout",
     "output_type": "stream",
     "text": [
      "Done!\n"
     ]
    },
    {
     "name": "stderr",
     "output_type": "stream",
     "text": [
      "\n"
     ]
    }
   ],
   "source": [
    "# Get and resize train images and masks\n",
    "X_train = np.zeros((len(train_ids), IMG_HEIGHT, IMG_WIDTH, IMG_CHANNELS), dtype=np.uint8)\n",
    "Y_train = np.zeros((len(train_ids), IMG_HEIGHT, IMG_WIDTH, 1), dtype=np.bool)\n",
    "print('Getting and resizing train images and masks ... ')\n",
    "sys.stdout.flush()\n",
    "for n, id_ in tqdm(enumerate(train_ids), total=len(train_ids)):\n",
    "    path = TRAIN_PATH + id_\n",
    "    img = imread(path + '/images/' + id_ + '.png')[:,:,:IMG_CHANNELS]\n",
    "    img = resize(img, (IMG_HEIGHT, IMG_WIDTH), mode='constant', preserve_range=True)\n",
    "    X_train[n] = img\n",
    "    mask = np.zeros((IMG_HEIGHT, IMG_WIDTH, 1), dtype=np.bool)\n",
    "    for mask_file in next(os.walk(path + '/masks/'))[2]:\n",
    "        mask_ = imread(path + '/masks/' + mask_file)\n",
    "        mask_ = np.expand_dims(resize(mask_, (IMG_HEIGHT, IMG_WIDTH), mode='constant', \n",
    "                                      preserve_range=True), axis=-1)\n",
    "        mask = np.maximum(mask, mask_)\n",
    "    Y_train[n] = mask\n",
    "\n",
    "# Get and resize test images\n",
    "X_test = np.zeros((len(test_ids), IMG_HEIGHT, IMG_WIDTH, IMG_CHANNELS), dtype=np.uint8)\n",
    "sizes_test = []\n",
    "print('Getting and resizing test images ... ')\n",
    "sys.stdout.flush()\n",
    "for n, id_ in tqdm(enumerate(test_ids), total=len(test_ids)):\n",
    "    path = TEST_PATH + id_\n",
    "    img = imread(path + '/images/' + id_ + '.png')[:,:,:IMG_CHANNELS]\n",
    "    sizes_test.append([img.shape[0], img.shape[1]])\n",
    "    img = resize(img, (IMG_HEIGHT, IMG_WIDTH), mode='constant', preserve_range=True)\n",
    "    X_test[n] = img\n",
    "\n",
    "print('Done!')"
   ]
  },
  {
   "cell_type": "code",
   "execution_count": 4,
   "metadata": {},
   "outputs": [
    {
     "data": {
      "image/png": "[encoded data removed]",
      "text/plain": [
       "<matplotlib.figure.Figure at 0x1c2af27fd0>"
      ]
     },
     "metadata": {},
     "output_type": "display_data"
    },
    {
     "data": {
      "image/png": "[encoded data removed]",
      "text/plain": [
       "<matplotlib.figure.Figure at 0x11333fcc0>"
      ]
     },
     "metadata": {},
     "output_type": "display_data"
    }
   ],
   "source": [
    "# Check if training data looks all right\n",
    "ix = random.randint(0, len(train_ids))\n",
    "imshow(X_train[ix])\n",
    "plt.show()\n",
    "imshow(np.squeeze(Y_train[ix]))\n",
    "plt.show()"
   ]
  },
  {
   "cell_type": "code",
   "execution_count": 5,
   "metadata": {
    "collapsed": true
   },
   "outputs": [],
   "source": [
    "# Define IoU metric\n",
    "def mean_iou(y_true, y_pred):\n",
    "    prec = []\n",
    "    for t in np.arange(0.5, 1.0, 0.05):\n",
    "        y_pred_ = tf.to_int32(y_pred > t)\n",
    "        score, up_opt = tf.metrics.mean_iou(y_true, y_pred_, 2)\n",
    "        K.get_session().run(tf.local_variables_initializer())\n",
    "        with tf.control_dependencies([up_opt]):\n",
    "            score = tf.identity(score)\n",
    "        prec.append(score)\n",
    "    return K.mean(K.stack(prec), axis=0)"
   ]
  },
  {
   "cell_type": "code",
   "execution_count": 6,
   "metadata": {},
   "outputs": [
    {
     "name": "stdout",
     "output_type": "stream",
     "text": [
      "____________________________________________________________________________________________________\n",
      "Layer (type)                     Output Shape          Param #     Connected to                     \n",
      "====================================================================================================\n",
      "input_1 (InputLayer)             (None, 128, 128, 3)   0                                            \n",
      "____________________________________________________________________________________________________\n",
      "lambda_1 (Lambda)                (None, 128, 128, 3)   0           input_1[0][0]                    \n",
      "____________________________________________________________________________________________________\n",
      "conv2d_1 (Conv2D)                (None, 128, 128, 16)  448         lambda_1[0][0]                   \n",
      "____________________________________________________________________________________________________\n",
      "dropout_1 (Dropout)              (None, 128, 128, 16)  0           conv2d_1[0][0]                   \n",
      "____________________________________________________________________________________________________\n",
      "conv2d_2 (Conv2D)                (None, 128, 128, 16)  2320        dropout_1[0][0]                  \n",
      "____________________________________________________________________________________________________\n",
      "max_pooling2d_1 (MaxPooling2D)   (None, 64, 64, 16)    0           conv2d_2[0][0]                   \n",
      "____________________________________________________________________________________________________\n",
      "conv2d_3 (Conv2D)                (None, 64, 64, 32)    4640        max_pooling2d_1[0][0]            \n",
      "____________________________________________________________________________________________________\n",
      "dropout_2 (Dropout)              (None, 64, 64, 32)    0           conv2d_3[0][0]                   \n",
      "____________________________________________________________________________________________________\n",
      "conv2d_4 (Conv2D)                (None, 64, 64, 32)    9248        dropout_2[0][0]                  \n",
      "____________________________________________________________________________________________________\n",
      "max_pooling2d_2 (MaxPooling2D)   (None, 32, 32, 32)    0           conv2d_4[0][0]                   \n",
      "____________________________________________________________________________________________________\n",
      "conv2d_5 (Conv2D)                (None, 32, 32, 64)    18496       max_pooling2d_2[0][0]            \n",
      "____________________________________________________________________________________________________\n",
      "dropout_3 (Dropout)              (None, 32, 32, 64)    0           conv2d_5[0][0]                   \n",
      "____________________________________________________________________________________________________\n",
      "conv2d_6 (Conv2D)                (None, 32, 32, 64)    36928       dropout_3[0][0]                  \n",
      "____________________________________________________________________________________________________\n",
      "max_pooling2d_3 (MaxPooling2D)   (None, 16, 16, 64)    0           conv2d_6[0][0]                   \n",
      "____________________________________________________________________________________________________\n",
      "conv2d_7 (Conv2D)                (None, 16, 16, 128)   73856       max_pooling2d_3[0][0]            \n",
      "____________________________________________________________________________________________________\n",
      "dropout_4 (Dropout)              (None, 16, 16, 128)   0           conv2d_7[0][0]                   \n",
      "____________________________________________________________________________________________________\n",
      "conv2d_8 (Conv2D)                (None, 16, 16, 128)   147584      dropout_4[0][0]                  \n",
      "____________________________________________________________________________________________________\n",
      "max_pooling2d_4 (MaxPooling2D)   (None, 8, 8, 128)     0           conv2d_8[0][0]                   \n",
      "____________________________________________________________________________________________________\n",
      "conv2d_9 (Conv2D)                (None, 8, 8, 256)     295168      max_pooling2d_4[0][0]            \n",
      "____________________________________________________________________________________________________\n",
      "dropout_5 (Dropout)              (None, 8, 8, 256)     0           conv2d_9[0][0]                   \n",
      "____________________________________________________________________________________________________\n",
      "conv2d_10 (Conv2D)               (None, 8, 8, 256)     590080      dropout_5[0][0]                  \n",
      "____________________________________________________________________________________________________\n",
      "conv2d_transpose_1 (Conv2DTransp (None, 16, 16, 128)   131200      conv2d_10[0][0]                  \n",
      "____________________________________________________________________________________________________\n",
      "concatenate_1 (Concatenate)      (None, 16, 16, 256)   0           conv2d_transpose_1[0][0]         \n",
      "                                                                   conv2d_8[0][0]                   \n",
      "____________________________________________________________________________________________________\n",
      "conv2d_11 (Conv2D)               (None, 16, 16, 128)   295040      concatenate_1[0][0]              \n",
      "____________________________________________________________________________________________________\n",
      "dropout_6 (Dropout)              (None, 16, 16, 128)   0           conv2d_11[0][0]                  \n",
      "____________________________________________________________________________________________________\n",
      "conv2d_12 (Conv2D)               (None, 16, 16, 128)   147584      dropout_6[0][0]                  \n",
      "____________________________________________________________________________________________________\n",
      "conv2d_transpose_2 (Conv2DTransp (None, 32, 32, 64)    32832       conv2d_12[0][0]                  \n",
      "____________________________________________________________________________________________________\n",
      "concatenate_2 (Concatenate)      (None, 32, 32, 128)   0           conv2d_transpose_2[0][0]         \n",
      "                                                                   conv2d_6[0][0]                   \n",
      "____________________________________________________________________________________________________\n",
      "conv2d_13 (Conv2D)               (None, 32, 32, 64)    73792       concatenate_2[0][0]              \n",
      "____________________________________________________________________________________________________\n",
      "dropout_7 (Dropout)              (None, 32, 32, 64)    0           conv2d_13[0][0]                  \n",
      "____________________________________________________________________________________________________\n",
      "conv2d_14 (Conv2D)               (None, 32, 32, 64)    36928       dropout_7[0][0]                  \n",
      "____________________________________________________________________________________________________\n",
      "conv2d_transpose_3 (Conv2DTransp (None, 64, 64, 32)    8224        conv2d_14[0][0]                  \n",
      "____________________________________________________________________________________________________\n",
      "concatenate_3 (Concatenate)      (None, 64, 64, 64)    0           conv2d_transpose_3[0][0]         \n",
      "                                                                   conv2d_4[0][0]                   \n",
      "____________________________________________________________________________________________________\n",
      "conv2d_15 (Conv2D)               (None, 64, 64, 32)    18464       concatenate_3[0][0]              \n",
      "____________________________________________________________________________________________________\n",
      "dropout_8 (Dropout)              (None, 64, 64, 32)    0           conv2d_15[0][0]                  \n",
      "____________________________________________________________________________________________________\n",
      "conv2d_16 (Conv2D)               (None, 64, 64, 32)    9248        dropout_8[0][0]                  \n",
      "____________________________________________________________________________________________________\n",
      "conv2d_transpose_4 (Conv2DTransp (None, 128, 128, 16)  2064        conv2d_16[0][0]                  \n",
      "____________________________________________________________________________________________________\n",
      "concatenate_4 (Concatenate)      (None, 128, 128, 32)  0           conv2d_transpose_4[0][0]         \n",
      "                                                                   conv2d_2[0][0]                   \n",
      "____________________________________________________________________________________________________\n",
      "conv2d_17 (Conv2D)               (None, 128, 128, 16)  4624        concatenate_4[0][0]              \n",
      "____________________________________________________________________________________________________\n",
      "dropout_9 (Dropout)              (None, 128, 128, 16)  0           conv2d_17[0][0]                  \n",
      "____________________________________________________________________________________________________\n",
      "conv2d_18 (Conv2D)               (None, 128, 128, 16)  2320        dropout_9[0][0]                  \n",
      "____________________________________________________________________________________________________\n",
      "conv2d_19 (Conv2D)               (None, 128, 128, 1)   17          conv2d_18[0][0]                  \n",
      "====================================================================================================\n",
      "Total params: 1,941,105\n",
      "Trainable params: 1,941,105\n",
      "Non-trainable params: 0\n",
      "____________________________________________________________________________________________________\n"
     ]
    }
   ],
   "source": [
    "# Build U-Net model\n",
    "inputs = Input((IMG_HEIGHT, IMG_WIDTH, IMG_CHANNELS))\n",
    "s = Lambda(lambda x: x / 255) (inputs)\n",
    "\n",
    "c1 = Conv2D(16, (3, 3), activation='elu', kernel_initializer='he_normal', padding='same') (s)\n",
    "c1 = Dropout(0.1) (c1)\n",
    "c1 = Conv2D(16, (3, 3), activation='elu', kernel_initializer='he_normal', padding='same') (c1)\n",
    "p1 = MaxPooling2D((2, 2)) (c1)\n",
    "\n",
    "c2 = Conv2D(32, (3, 3), activation='elu', kernel_initializer='he_normal', padding='same') (p1)\n",
    "c2 = Dropout(0.1) (c2)\n",
    "c2 = Conv2D(32, (3, 3), activation='elu', kernel_initializer='he_normal', padding='same') (c2)\n",
    "p2 = MaxPooling2D((2, 2)) (c2)\n",
    "\n",
    "c3 = Conv2D(64, (3, 3), activation='elu', kernel_initializer='he_normal', padding='same') (p2)\n",
    "c3 = Dropout(0.2) (c3)\n",
    "c3 = Conv2D(64, (3, 3), activation='elu', kernel_initializer='he_normal', padding='same') (c3)\n",
    "p3 = MaxPooling2D((2, 2)) (c3)\n",
    "\n",
    "c4 = Conv2D(128, (3, 3), activation='elu', kernel_initializer='he_normal', padding='same') (p3)\n",
    "c4 = Dropout(0.2) (c4)\n",
    "c4 = Conv2D(128, (3, 3), activation='elu', kernel_initializer='he_normal', padding='same') (c4)\n",
    "p4 = MaxPooling2D(pool_size=(2, 2)) (c4)\n",
    "\n",
    "c5 = Conv2D(256, (3, 3), activation='elu', kernel_initializer='he_normal', padding='same') (p4)\n",
    "c5 = Dropout(0.3) (c5)\n",
    "c5 = Conv2D(256, (3, 3), activation='elu', kernel_initializer='he_normal', padding='same') (c5)\n",
    "\n",
    "u6 = Conv2DTranspose(128, (2, 2), strides=(2, 2), padding='same') (c5)\n",
    "u6 = concatenate([u6, c4])\n",
    "c6 = Conv2D(128, (3, 3), activation='elu', kernel_initializer='he_normal', padding='same') (u6)\n",
    "c6 = Dropout(0.2) (c6)\n",
    "c6 = Conv2D(128, (3, 3), activation='elu', kernel_initializer='he_normal', padding='same') (c6)\n",
    "\n",
    "u7 = Conv2DTranspose(64, (2, 2), strides=(2, 2), padding='same') (c6)\n",
    "u7 = concatenate([u7, c3])\n",
    "c7 = Conv2D(64, (3, 3), activation='elu', kernel_initializer='he_normal', padding='same') (u7)\n",
    "c7 = Dropout(0.2) (c7)\n",
    "c7 = Conv2D(64, (3, 3), activation='elu', kernel_initializer='he_normal', padding='same') (c7)\n",
    "\n",
    "u8 = Conv2DTranspose(32, (2, 2), strides=(2, 2), padding='same') (c7)\n",
    "u8 = concatenate([u8, c2])\n",
    "c8 = Conv2D(32, (3, 3), activation='elu', kernel_initializer='he_normal', padding='same') (u8)\n",
    "c8 = Dropout(0.1) (c8)\n",
    "c8 = Conv2D(32, (3, 3), activation='elu', kernel_initializer='he_normal', padding='same') (c8)\n",
    "\n",
    "u9 = Conv2DTranspose(16, (2, 2), strides=(2, 2), padding='same') (c8)\n",
    "u9 = concatenate([u9, c1], axis=3)\n",
    "c9 = Conv2D(16, (3, 3), activation='elu', kernel_initializer='he_normal', padding='same') (u9)\n",
    "c9 = Dropout(0.1) (c9)\n",
    "c9 = Conv2D(16, (3, 3), activation='elu', kernel_initializer='he_normal', padding='same') (c9)\n",
    "\n",
    "outputs = Conv2D(1, (1, 1), activation='sigmoid') (c9)\n",
    "\n",
    "model = Model(inputs=[inputs], outputs=[outputs])\n",
    "model.compile(optimizer='adam', loss='binary_crossentropy', metrics=[mean_iou])\n",
    "model.summary()"
   ]
  },
  {
   "cell_type": "code",
   "execution_count": 7,
   "metadata": {},
   "outputs": [
    {
     "name": "stdout",
     "output_type": "stream",
     "text": [
      "Train on 603 samples, validate on 67 samples\n",
      "Epoch 1/50\n",
      "592/603 [============================>.] - ETA: 3s - loss: 0.4124 - mean_iou: 0.4157Epoch 00000: val_loss improved from inf to 0.21106, saving model to model-dsbowl2018-1.h5\n",
      "603/603 [==============================] - 176s - loss: 0.4094 - mean_iou: 0.4161 - val_loss: 0.2111 - val_mean_iou: 0.4464\n",
      "Epoch 2/50\n",
      "592/603 [============================>.] - ETA: 2s - loss: 0.1840 - mean_iou: 0.5144Epoch 00001: val_loss did not improve\n",
      "603/603 [==============================] - 145s - loss: 0.1828 - mean_iou: 0.5152 - val_loss: 0.4423 - val_mean_iou: 0.5624\n",
      "Epoch 3/50\n",
      "592/603 [============================>.] - ETA: 2s - loss: 0.1593 - mean_iou: 0.5876Epoch 00002: val_loss improved from 0.21106 to 0.12616, saving model to model-dsbowl2018-1.h5\n",
      "603/603 [==============================] - 146s - loss: 0.1586 - mean_iou: 0.5881 - val_loss: 0.1262 - val_mean_iou: 0.6144\n",
      "Epoch 4/50\n",
      "592/603 [============================>.] - ETA: 2s - loss: 0.1248 - mean_iou: 0.6367Epoch 00003: val_loss improved from 0.12616 to 0.11490, saving model to model-dsbowl2018-1.h5\n",
      "603/603 [==============================] - 146s - loss: 0.1253 - mean_iou: 0.6370 - val_loss: 0.1149 - val_mean_iou: 0.6570\n",
      "Epoch 5/50\n",
      "592/603 [============================>.] - ETA: 2s - loss: 0.1177 - mean_iou: 0.6709Epoch 00004: val_loss improved from 0.11490 to 0.10594, saving model to model-dsbowl2018-1.h5\n",
      "603/603 [==============================] - 145s - loss: 0.1166 - mean_iou: 0.6711 - val_loss: 0.1059 - val_mean_iou: 0.6844\n",
      "Epoch 6/50\n",
      "592/603 [============================>.] - ETA: 2s - loss: 0.1121 - mean_iou: 0.6953Epoch 00005: val_loss improved from 0.10594 to 0.09425, saving model to model-dsbowl2018-1.h5\n",
      "603/603 [==============================] - 146s - loss: 0.1121 - mean_iou: 0.6955 - val_loss: 0.0942 - val_mean_iou: 0.7044\n",
      "Epoch 7/50\n",
      "592/603 [============================>.] - ETA: 2s - loss: 0.1029 - mean_iou: 0.7129Epoch 00006: val_loss improved from 0.09425 to 0.08889, saving model to model-dsbowl2018-1.h5\n",
      "603/603 [==============================] - 146s - loss: 0.1033 - mean_iou: 0.7131 - val_loss: 0.0889 - val_mean_iou: 0.7207\n",
      "Epoch 8/50\n",
      "592/603 [============================>.] - ETA: 2s - loss: 0.0995 - mean_iou: 0.7273Epoch 00007: val_loss did not improve\n",
      "603/603 [==============================] - 146s - loss: 0.1007 - mean_iou: 0.7274 - val_loss: 0.0931 - val_mean_iou: 0.7337\n",
      "Epoch 9/50\n",
      "592/603 [============================>.] - ETA: 2s - loss: 0.0945 - mean_iou: 0.7394Epoch 00008: val_loss improved from 0.08889 to 0.08527, saving model to model-dsbowl2018-1.h5\n",
      "603/603 [==============================] - 149s - loss: 0.0941 - mean_iou: 0.7395 - val_loss: 0.0853 - val_mean_iou: 0.7450\n",
      "Epoch 10/50\n",
      "592/603 [============================>.] - ETA: 2s - loss: 0.0929 - mean_iou: 0.7493Epoch 00009: val_loss did not improve\n",
      "603/603 [==============================] - 145s - loss: 0.0931 - mean_iou: 0.7493 - val_loss: 0.0883 - val_mean_iou: 0.7538\n",
      "Epoch 11/50\n",
      "592/603 [============================>.] - ETA: 2s - loss: 0.0917 - mean_iou: 0.7581Epoch 00010: val_loss improved from 0.08527 to 0.07925, saving model to model-dsbowl2018-1.h5\n",
      "603/603 [==============================] - 146s - loss: 0.0912 - mean_iou: 0.7581 - val_loss: 0.0793 - val_mean_iou: 0.7618\n",
      "Epoch 12/50\n",
      "592/603 [============================>.] - ETA: 2s - loss: 0.0859 - mean_iou: 0.7655Epoch 00011: val_loss improved from 0.07925 to 0.07599, saving model to model-dsbowl2018-1.h5\n",
      "603/603 [==============================] - 145s - loss: 0.0865 - mean_iou: 0.7655 - val_loss: 0.0760 - val_mean_iou: 0.7687\n",
      "Epoch 13/50\n",
      "592/603 [============================>.] - ETA: 2s - loss: 0.0882 - mean_iou: 0.7716Epoch 00012: val_loss did not improve\n",
      "603/603 [==============================] - 148s - loss: 0.0885 - mean_iou: 0.7717 - val_loss: 0.0794 - val_mean_iou: 0.7745\n",
      "Epoch 14/50\n",
      "592/603 [============================>.] - ETA: 2s - loss: 0.0875 - mean_iou: 0.7768Epoch 00013: val_loss did not improve\n",
      "603/603 [==============================] - 147s - loss: 0.0877 - mean_iou: 0.7768 - val_loss: 0.0779 - val_mean_iou: 0.7793\n",
      "Epoch 15/50\n",
      "592/603 [============================>.] - ETA: 2s - loss: 0.0829 - mean_iou: 0.7818Epoch 00014: val_loss improved from 0.07599 to 0.07433, saving model to model-dsbowl2018-1.h5\n",
      "603/603 [==============================] - 145s - loss: 0.0831 - mean_iou: 0.7818 - val_loss: 0.0743 - val_mean_iou: 0.7841\n",
      "Epoch 16/50\n",
      "592/603 [============================>.] - ETA: 2s - loss: 0.0798 - mean_iou: 0.7865Epoch 00015: val_loss improved from 0.07433 to 0.07219, saving model to model-dsbowl2018-1.h5\n",
      "603/603 [==============================] - 144s - loss: 0.0798 - mean_iou: 0.7865 - val_loss: 0.0722 - val_mean_iou: 0.7885\n",
      "Epoch 17/50\n",
      "592/603 [============================>.] - ETA: 2s - loss: 0.0796 - mean_iou: 0.7905Epoch 00016: val_loss did not improve\n",
      "603/603 [==============================] - 145s - loss: 0.0805 - mean_iou: 0.7906 - val_loss: 0.0771 - val_mean_iou: 0.7923\n",
      "Epoch 18/50\n",
      "592/603 [============================>.] - ETA: 2s - loss: 0.0804 - mean_iou: 0.7941Epoch 00017: val_loss improved from 0.07219 to 0.07212, saving model to model-dsbowl2018-1.h5\n",
      "603/603 [==============================] - 144s - loss: 0.0804 - mean_iou: 0.7941 - val_loss: 0.0721 - val_mean_iou: 0.7957\n",
      "Epoch 19/50\n",
      "592/603 [============================>.] - ETA: 2s - loss: 0.0789 - mean_iou: 0.7975Epoch 00018: val_loss improved from 0.07212 to 0.06896, saving model to model-dsbowl2018-1.h5\n",
      "603/603 [==============================] - 144s - loss: 0.0786 - mean_iou: 0.7975 - val_loss: 0.0690 - val_mean_iou: 0.7990\n",
      "Epoch 20/50\n",
      "592/603 [============================>.] - ETA: 2s - loss: 0.0761 - mean_iou: 0.8005Epoch 00019: val_loss did not improve\n",
      "603/603 [==============================] - 144s - loss: 0.0755 - mean_iou: 0.8005 - val_loss: 0.0741 - val_mean_iou: 0.8020\n",
      "Epoch 21/50\n",
      "592/603 [============================>.] - ETA: 2s - loss: 0.0761 - mean_iou: 0.8035Epoch 00020: val_loss did not improve\n",
      "603/603 [==============================] - 149s - loss: 0.0762 - mean_iou: 0.8035 - val_loss: 0.0713 - val_mean_iou: 0.8048\n",
      "Epoch 22/50\n",
      "592/603 [============================>.] - ETA: 2s - loss: 0.0745 - mean_iou: 0.8061Epoch 00021: val_loss improved from 0.06896 to 0.06828, saving model to model-dsbowl2018-1.h5\n",
      "603/603 [==============================] - 146s - loss: 0.0745 - mean_iou: 0.8062 - val_loss: 0.0683 - val_mean_iou: 0.8074\n",
      "Epoch 23/50\n",
      "592/603 [============================>.] - ETA: 2s - loss: 0.0764 - mean_iou: 0.8086Epoch 00022: val_loss did not improve\n",
      "603/603 [==============================] - 146s - loss: 0.0756 - mean_iou: 0.8086 - val_loss: 0.0695 - val_mean_iou: 0.8097\n",
      "Epoch 24/50\n",
      "592/603 [============================>.] - ETA: 2s - loss: 0.0733 - mean_iou: 0.8108Epoch 00023: val_loss improved from 0.06828 to 0.06699, saving model to model-dsbowl2018-1.h5\n",
      "603/603 [==============================] - 147s - loss: 0.0731 - mean_iou: 0.8108 - val_loss: 0.0670 - val_mean_iou: 0.8119\n",
      "Epoch 25/50\n",
      "592/603 [============================>.] - ETA: 2s - loss: 0.0738 - mean_iou: 0.8129Epoch 00024: val_loss did not improve\n",
      "603/603 [==============================] - 147s - loss: 0.0736 - mean_iou: 0.8129 - val_loss: 0.0696 - val_mean_iou: 0.8139\n",
      "Epoch 26/50\n",
      "592/603 [============================>.] - ETA: 2s - loss: 0.0732 - mean_iou: 0.8150Epoch 00025: val_loss did not improve\n",
      "603/603 [==============================] - 146s - loss: 0.0730 - mean_iou: 0.8150 - val_loss: 0.0715 - val_mean_iou: 0.8159\n",
      "Epoch 27/50\n",
      "592/603 [============================>.] - ETA: 2s - loss: 0.0712 - mean_iou: 0.8168Epoch 00026: val_loss did not improve\n",
      "603/603 [==============================] - 143s - loss: 0.0710 - mean_iou: 0.8168 - val_loss: 0.0682 - val_mean_iou: 0.8178\n",
      "Epoch 28/50\n",
      "592/603 [============================>.] - ETA: 2s - loss: 0.0693 - mean_iou: 0.8187Epoch 00027: val_loss improved from 0.06699 to 0.06568, saving model to model-dsbowl2018-1.h5\n",
      "603/603 [==============================] - 146s - loss: 0.0696 - mean_iou: 0.8187 - val_loss: 0.0657 - val_mean_iou: 0.8197\n",
      "Epoch 29/50\n"
     ]
    },
    {
     "name": "stdout",
     "output_type": "stream",
     "text": [
      "592/603 [============================>.] - ETA: 2s - loss: 0.0710 - mean_iou: 0.8204Epoch 00028: val_loss improved from 0.06568 to 0.06425, saving model to model-dsbowl2018-1.h5\n",
      "603/603 [==============================] - 145s - loss: 0.0713 - mean_iou: 0.8204 - val_loss: 0.0642 - val_mean_iou: 0.8212\n",
      "Epoch 30/50\n",
      "592/603 [============================>.] - ETA: 2s - loss: 0.0678 - mean_iou: 0.8221Epoch 00029: val_loss did not improve\n",
      "603/603 [==============================] - 154s - loss: 0.0681 - mean_iou: 0.8221 - val_loss: 0.0657 - val_mean_iou: 0.8229\n",
      "Epoch 31/50\n",
      "592/603 [============================>.] - ETA: 2s - loss: 0.0703 - mean_iou: 0.8235Epoch 00030: val_loss did not improve\n",
      "603/603 [==============================] - 166s - loss: 0.0703 - mean_iou: 0.8235 - val_loss: 0.0646 - val_mean_iou: 0.8243\n",
      "Epoch 32/50\n",
      "592/603 [============================>.] - ETA: 2s - loss: 0.0670 - mean_iou: 0.8251Epoch 00031: val_loss improved from 0.06425 to 0.06240, saving model to model-dsbowl2018-1.h5\n",
      "603/603 [==============================] - 144s - loss: 0.0672 - mean_iou: 0.8251 - val_loss: 0.0624 - val_mean_iou: 0.8258\n",
      "Epoch 33/50\n",
      "592/603 [============================>.] - ETA: 2s - loss: 0.0672 - mean_iou: 0.8265Epoch 00032: val_loss did not improve\n",
      "603/603 [==============================] - 144s - loss: 0.0670 - mean_iou: 0.8265 - val_loss: 0.0669 - val_mean_iou: 0.8272\n",
      "Epoch 34/50\n",
      "592/603 [============================>.] - ETA: 2s - loss: 0.0669 - mean_iou: 0.8279Epoch 00033: val_loss did not improve\n",
      "603/603 [==============================] - 143s - loss: 0.0665 - mean_iou: 0.8279 - val_loss: 0.0631 - val_mean_iou: 0.8285\n",
      "Epoch 35/50\n",
      "592/603 [============================>.] - ETA: 2s - loss: 0.0679 - mean_iou: 0.8292Epoch 00034: val_loss did not improve\n",
      "603/603 [==============================] - 142s - loss: 0.0674 - mean_iou: 0.8292 - val_loss: 0.0655 - val_mean_iou: 0.8298\n",
      "Epoch 36/50\n",
      "592/603 [============================>.] - ETA: 2s - loss: 0.0692 - mean_iou: 0.8303Epoch 00035: val_loss did not improve\n",
      "603/603 [==============================] - 149s - loss: 0.0690 - mean_iou: 0.8303 - val_loss: 0.0669 - val_mean_iou: 0.8309\n",
      "Epoch 37/50\n",
      "592/603 [============================>.] - ETA: 2s - loss: 0.0699 - mean_iou: 0.8314Epoch 00036: val_loss improved from 0.06240 to 0.06224, saving model to model-dsbowl2018-1.h5\n",
      "603/603 [==============================] - 150s - loss: 0.0700 - mean_iou: 0.8314 - val_loss: 0.0622 - val_mean_iou: 0.8319\n",
      "Epoch 38/50\n",
      "592/603 [============================>.] - ETA: 2s - loss: 0.0660 - mean_iou: 0.8325Epoch 00037: val_loss did not improve\n",
      "603/603 [==============================] - 146s - loss: 0.0659 - mean_iou: 0.8326 - val_loss: 0.0630 - val_mean_iou: 0.8331\n",
      "Epoch 39/50\n",
      "592/603 [============================>.] - ETA: 2s - loss: 0.0660 - mean_iou: 0.8336Epoch 00038: val_loss did not improve\n",
      "603/603 [==============================] - 147s - loss: 0.0658 - mean_iou: 0.8336 - val_loss: 0.0623 - val_mean_iou: 0.8341\n",
      "Epoch 40/50\n",
      "592/603 [============================>.] - ETA: 2s - loss: 0.0641 - mean_iou: 0.8347Epoch 00039: val_loss improved from 0.06224 to 0.06176, saving model to model-dsbowl2018-1.h5\n",
      "603/603 [==============================] - 148s - loss: 0.0644 - mean_iou: 0.8347 - val_loss: 0.0618 - val_mean_iou: 0.8352\n",
      "Epoch 41/50\n",
      "592/603 [============================>.] - ETA: 2s - loss: 0.0663 - mean_iou: 0.8357Epoch 00040: val_loss did not improve\n",
      "603/603 [==============================] - 148s - loss: 0.0661 - mean_iou: 0.8357 - val_loss: 0.0633 - val_mean_iou: 0.8361\n",
      "Epoch 42/50\n",
      "592/603 [============================>.] - ETA: 2s - loss: 0.0630 - mean_iou: 0.8366Epoch 00041: val_loss did not improve\n",
      "603/603 [==============================] - 147s - loss: 0.0631 - mean_iou: 0.8366 - val_loss: 0.0629 - val_mean_iou: 0.8372\n",
      "Epoch 43/50\n",
      "592/603 [============================>.] - ETA: 2s - loss: 0.0635 - mean_iou: 0.8376Epoch 00042: val_loss improved from 0.06176 to 0.06159, saving model to model-dsbowl2018-1.h5\n",
      "603/603 [==============================] - 148s - loss: 0.0636 - mean_iou: 0.8376 - val_loss: 0.0616 - val_mean_iou: 0.8381\n",
      "Epoch 44/50\n",
      "592/603 [============================>.] - ETA: 2s - loss: 0.0629 - mean_iou: 0.8385Epoch 00043: val_loss did not improve\n",
      "603/603 [==============================] - 146s - loss: 0.0625 - mean_iou: 0.8385 - val_loss: 0.0633 - val_mean_iou: 0.8390\n",
      "Epoch 45/50\n",
      "592/603 [============================>.] - ETA: 2s - loss: 0.0620 - mean_iou: 0.8395Epoch 00044: val_loss did not improve\n",
      "603/603 [==============================] - 146s - loss: 0.0619 - mean_iou: 0.8395 - val_loss: 0.0619 - val_mean_iou: 0.8399\n",
      "Epoch 46/50\n",
      "592/603 [============================>.] - ETA: 2s - loss: 0.0627 - mean_iou: 0.8404Epoch 00045: val_loss improved from 0.06159 to 0.06066, saving model to model-dsbowl2018-1.h5\n",
      "603/603 [==============================] - 148s - loss: 0.0624 - mean_iou: 0.8404 - val_loss: 0.0607 - val_mean_iou: 0.8408\n",
      "Epoch 47/50\n",
      "592/603 [============================>.] - ETA: 2s - loss: 0.0666 - mean_iou: 0.8411Epoch 00046: val_loss did not improve\n",
      "603/603 [==============================] - 151s - loss: 0.0668 - mean_iou: 0.8411 - val_loss: 0.0644 - val_mean_iou: 0.8415\n",
      "Epoch 48/50\n",
      "592/603 [============================>.] - ETA: 2s - loss: 0.0632 - mean_iou: 0.8418Epoch 00047: val_loss did not improve\n",
      "603/603 [==============================] - 151s - loss: 0.0635 - mean_iou: 0.8418 - val_loss: 0.0623 - val_mean_iou: 0.8422\n",
      "Epoch 49/50\n",
      "592/603 [============================>.] - ETA: 2s - loss: 0.0623 - mean_iou: 0.8426Epoch 00048: val_loss did not improve\n",
      "603/603 [==============================] - 147s - loss: 0.0627 - mean_iou: 0.8426 - val_loss: 0.0633 - val_mean_iou: 0.8430\n",
      "Epoch 50/50\n",
      "592/603 [============================>.] - ETA: 2s - loss: 0.0613 - mean_iou: 0.8433Epoch 00049: val_loss did not improve\n",
      "603/603 [==============================] - 146s - loss: 0.0613 - mean_iou: 0.8433 - val_loss: 0.0638 - val_mean_iou: 0.8437\n"
     ]
    }
   ],
   "source": [
    "# Fit model\n",
    "earlystopper = EarlyStopping(patience=5, verbose=1)\n",
    "checkpointer = ModelCheckpoint('model-dsbowl2018-1.h5', verbose=1, save_best_only=True)\n",
    "results = model.fit(X_train, Y_train, validation_split=0.1, batch_size=16, epochs=50, \n",
    "                    callbacks=[earlystopper, checkpointer])"
   ]
  },
  {
   "cell_type": "code",
   "execution_count": 8,
   "metadata": {},
   "outputs": [
    {
     "name": "stdout",
     "output_type": "stream",
     "text": [
      "603/603 [==============================] - 50s    \n",
      "67/67 [==============================] - 5s     \n",
      "65/65 [==============================] - 5s     \n"
     ]
    }
   ],
   "source": [
    "# Predict on train, val and test\n",
    "model = load_model('model-dsbowl2018-1.h5', custom_objects={'mean_iou': mean_iou})\n",
    "preds_train = model.predict(X_train[:int(X_train.shape[0]*0.9)], verbose=1)\n",
    "preds_val = model.predict(X_train[int(X_train.shape[0]*0.9):], verbose=1)\n",
    "preds_test = model.predict(X_test, verbose=1)\n",
    "\n",
    "# Threshold predictions\n",
    "preds_train_t = (preds_train > 0.5).astype(np.uint8)\n",
    "preds_val_t = (preds_val > 0.5).astype(np.uint8)\n",
    "preds_test_t = (preds_test > 0.5).astype(np.uint8)\n",
    "\n",
    "# Create list of upsampled test masks\n",
    "preds_test_upsampled = []\n",
    "for i in range(len(preds_test)):\n",
    "    preds_test_upsampled.append(resize(np.squeeze(preds_test[i]), \n",
    "                                       (sizes_test[i][0], sizes_test[i][1]), \n",
    "                                       mode='constant', preserve_range=True))"
   ]
  },
  {
   "cell_type": "code",
   "execution_count": 9,
   "metadata": {},
   "outputs": [
    {
     "data": {
      "image/png": "[encoded data removed]",
      "text/plain": [
       "<matplotlib.figure.Figure at 0x1c3183bd30>"
      ]
     },
     "metadata": {},
     "output_type": "display_data"
    },
    {
     "data": {
      "image/png": "[encoded data removed]",
      "text/plain": [
       "<matplotlib.figure.Figure at 0x1c32845e48>"
      ]
     },
     "metadata": {},
     "output_type": "display_data"
    },
    {
     "data": {
      "image/png": "[encoded data removed]",
      "text/plain": [
       "<matplotlib.figure.Figure at 0x1c366a3828>"
      ]
     },
     "metadata": {},
     "output_type": "display_data"
    }
   ],
   "source": [
    "# Perform a sanity check on some random training samples\n",
    "ix = random.randint(0, len(preds_train_t))\n",
    "imshow(X_train[ix])\n",
    "plt.show()\n",
    "imshow(np.squeeze(Y_train[ix]))\n",
    "plt.show()\n",
    "imshow(np.squeeze(preds_train_t[ix]))\n",
    "plt.show()"
   ]
  },
  {
   "cell_type": "code",
   "execution_count": 10,
   "metadata": {},
   "outputs": [
    {
     "data": {
      "image/png": "[encoded data removed]",
      "text/plain": [
       "<matplotlib.figure.Figure at 0x1c31136630>"
      ]
     },
     "metadata": {},
     "output_type": "display_data"
    },
    {
     "data": {
      "image/png": "[encoded data removed]",
      "text/plain": [
       "<matplotlib.figure.Figure at 0x1c38409cc0>"
      ]
     },
     "metadata": {},
     "output_type": "display_data"
    },
    {
     "data": {
      "image/png": "[encoded data removed]",
      "text/plain": [
       "<matplotlib.figure.Figure at 0x1c431cd358>"
      ]
     },
     "metadata": {},
     "output_type": "display_data"
    }
   ],
   "source": [
    "# Perform a sanity check on some random validation samples\n",
    "ix = random.randint(0, len(preds_val_t))\n",
    "imshow(X_train[int(X_train.shape[0]*0.9):][ix])\n",
    "plt.show()\n",
    "imshow(np.squeeze(Y_train[int(Y_train.shape[0]*0.9):][ix]))\n",
    "plt.show()\n",
    "imshow(np.squeeze(preds_val_t[ix]))\n",
    "plt.show()"
   ]
  },
  {
   "cell_type": "code",
   "execution_count": 14,
   "metadata": {
    "collapsed": true
   },
   "outputs": [],
   "source": [
    "# Run-length encoding stolen from https://www.kaggle.com/rakhlin/fast-run-length-encoding-python\n",
    "def rle_encoding(x):\n",
    "    dots = np.where(x.T.flatten() == 1)[0]\n",
    "    run_lengths = []\n",
    "    prev = -2\n",
    "    for b in dots:\n",
    "        if (b>prev+1): run_lengths.extend((b + 1, 0))\n",
    "        run_lengths[-1] += 1\n",
    "        prev = b\n",
    "    return run_lengths\n",
    "\n",
    "def prob_to_rles(x, cutoff=0.5):\n",
    "    lab_img = label(x > cutoff)\n",
    "    for i in range(1, lab_img.max() + 1):\n",
    "        yield rle_encoding(lab_img == i)"
   ]
  },
  {
   "cell_type": "code",
   "execution_count": 15,
   "metadata": {},
   "outputs": [],
   "source": [
    "new_test_ids = []\n",
    "rles = []\n",
    "for n, id_ in enumerate(test_ids):\n",
    "    rle = list(prob_to_rles(preds_test_upsampled[n]))\n",
    "    rles.extend(rle)\n",
    "    new_test_ids.extend([id_] * len(rle))\n"
   ]
  },
  {
   "cell_type": "code",
   "execution_count": 16,
   "metadata": {
    "collapsed": true
   },
   "outputs": [],
   "source": [
    "# Create submission DataFrame\n",
    "sub = pd.DataFrame()\n",
    "sub['ImageId'] = new_test_ids\n",
    "sub['EncodedPixels'] = pd.Series(rles).apply(lambda x: ' '.join(str(y) for y in x))\n",
    "sub.to_csv('sub-dsbowl2018-1.csv', index=False)\n",
    "print('Done!')"
   ]
  }
 ],
 "metadata": {
  "kernelspec": {
   "display_name": "Python 3",
   "language": "python",
   "name": "python3"
  },
  "language_info": {
   "codemirror_mode": {
    "name": "ipython",
    "version": 3
   },
   "file_extension": ".py",
   "mimetype": "text/x-python",
   "name": "python",
   "nbconvert_exporter": "python",
   "pygments_lexer": "ipython3",
   "version": "3.6.4"
  }
 },
 "nbformat": 4,
 "nbformat_minor": 2
}
